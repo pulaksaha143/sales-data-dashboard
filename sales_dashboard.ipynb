{
 "cells": [
  {
   "cell_type": "code",
   "execution_count": null,
   "id": "4705bea5-1e08-45d4-a796-9d27028bc18d",
   "metadata": {},
   "outputs": [],
   "source": [
    "import pyodbc\n",
    "import pandas as pd\n",
    "import matplotlib.pyplot as plt\n",
    "\n",
    "# Connect to MSSQL\n",
    "conn = pyodbc.connect(\n",
    "    'Driver={SQL Server};'\n",
    "    'Server=localhost\\\\SQLEXPRESS;'  # Change if your server name is different\n",
    "    'Database=SalesDB;'\n",
    "    'Trusted_Connection=yes;'\n",
    ")\n",
    "\n",
    "# Load sales data\n",
    "df = pd.read_sql(\"SELECT * FROM Sales\", conn)\n",
    "\n",
    "# Total Revenue\n",
    "total = pd.read_sql(\"SELECT SUM(quantity * price) as Total_Revenue FROM Sales\", conn)\n",
    "print(\"💰 Total Revenue:\\n\", total)\n",
    "\n",
    "# Top Products\n",
    "top_products = pd.read_sql(\"\"\"\n",
    "SELECT product, SUM(quantity) AS total_quantity\n",
    "FROM Sales\n",
    "GROUP BY product\n",
    "ORDER BY total_quantity DESC\n",
    "\"\"\", conn)\n",
    "\n",
    "print(\"📦 Top Products:\\n\", top_products)\n",
    "\n",
    "# Visualize\n",
    "top_products.plot(kind='bar', x='product', y='total_quantity', legend=False)\n",
    "plt.title(\"Top Selling Products\")\n",
    "plt.xlabel(\"Product\")\n",
    "plt.ylabel(\"Quantity Sold\")\n",
    "plt.tight_layout()\n",
    "plt.show()\n"
   ]
  },
  {
   "cell_type": "code",
   "execution_count": null,
   "id": "84075867-0cec-4de5-889a-a38f259b2a4e",
   "metadata": {},
   "outputs": [],
   "source": []
  }
 ],
 "metadata": {
  "kernelspec": {
   "display_name": "Python 3 (ipykernel)",
   "language": "python",
   "name": "python3"
  },
  "language_info": {
   "codemirror_mode": {
    "name": "ipython",
    "version": 3
   },
   "file_extension": ".py",
   "mimetype": "text/x-python",
   "name": "python",
   "nbconvert_exporter": "python",
   "pygments_lexer": "ipython3",
   "version": "3.12.7"
  }
 },
 "nbformat": 4,
 "nbformat_minor": 5
}
